{
 "cells": [
  {
   "cell_type": "code",
   "execution_count": 1,
   "id": "8237ab92",
   "metadata": {},
   "outputs": [],
   "source": [
    "features_csv_path = 'full_features.csv'\n",
    "target_variable = 'grade'\n",
    "drop_columns = ['id', 'grade', 'benchmark', 'start1', 'start2', 'end']"
   ]
  },
  {
   "cell_type": "code",
   "execution_count": 2,
   "id": "344cd053",
   "metadata": {},
   "outputs": [],
   "source": [
    "import numpy as np\n",
    "import scipy.stats as sps\n",
    "import pandas as pd\n",
    "import metadata as md\n",
    "import matplotlib.pyplot as plt\n",
    "import xgboost as xgb\n",
    "from sklearn.metrics import mean_squared_error\n",
    "from sklearn.model_selection import GridSearchCV"
   ]
  },
  {
   "cell_type": "code",
   "execution_count": 3,
   "id": "08aaeb35",
   "metadata": {},
   "outputs": [
    {
     "data": {
      "text/plain": [
       "(29181, 168)"
      ]
     },
     "execution_count": 3,
     "metadata": {},
     "output_type": "execute_result"
    }
   ],
   "source": [
    "df = pd.read_csv(features_csv_path)\n",
    "df.shape"
   ]
  },
  {
   "cell_type": "code",
   "execution_count": 4,
   "id": "0300bab1",
   "metadata": {},
   "outputs": [],
   "source": [
    "df2 = pd.read_csv('umap_features_150_dim')"
   ]
  },
  {
   "cell_type": "code",
   "execution_count": 5,
   "id": "1244c261",
   "metadata": {},
   "outputs": [
    {
     "data": {
      "text/plain": [
       "(29181, 319)"
      ]
     },
     "execution_count": 5,
     "metadata": {},
     "output_type": "execute_result"
    }
   ],
   "source": [
    "df3 = pd.concat([df,df2], axis = 1)\n",
    "df3.shape"
   ]
  },
  {
   "cell_type": "code",
   "execution_count": 6,
   "id": "d4b994f1",
   "metadata": {},
   "outputs": [
    {
     "data": {
      "text/plain": [
       "'\\ndf_train = df.loc[md.train_tf]\\ndf_test = df.loc[md.text_df]\\n\\nX_train = df_train.drop(columns = drop_columns).to_numpy()\\ny_train = df_train[target_variable].copy().values\\nX_test = df_test.drop(columns = drop_columns).to_numpy()\\ny_test = df_test[target_variable].copy().values\\n'"
      ]
     },
     "execution_count": 6,
     "metadata": {},
     "output_type": "execute_result"
    }
   ],
   "source": [
    "'''\n",
    "df_train = df.loc[md.train_tf]\n",
    "df_test = df.loc[md.text_df]\n",
    "\n",
    "X_train = df_train.drop(columns = drop_columns).to_numpy()\n",
    "y_train = df_train[target_variable].copy().values\n",
    "X_test = df_test.drop(columns = drop_columns).to_numpy()\n",
    "y_test = df_test[target_variable].copy().values\n",
    "'''"
   ]
  },
  {
   "cell_type": "code",
   "execution_count": 7,
   "id": "6e2c66c5",
   "metadata": {},
   "outputs": [],
   "source": [
    "#'''\n",
    "X = df3.drop(columns = drop_columns).to_numpy()\n",
    "y = df[target_variable].copy().values\n",
    "\n",
    "from sklearn.model_selection import train_test_split\n",
    "\n",
    "X_train, X_test, y_train, y_test = train_test_split(X, y, test_size = 0.2, random_state = 2016, stratify = y)\n",
    "#'''"
   ]
  },
  {
   "cell_type": "code",
   "execution_count": 8,
   "id": "402d116f",
   "metadata": {},
   "outputs": [],
   "source": [
    "grid_n_estimators = [100, 200, 300]\n",
    "grid_max_depth = [2, 3, 4, 5]\n",
    "\n",
    "reg_cv = xgb.XGBRegressor()\n",
    "grid_cv = GridSearchCV(reg_cv, cv = 5, param_grid = {'n_estimators': grid_n_estimators, 'max_depth': grid_max_depth}, scoring = 'neg_mean_squared_error')"
   ]
  },
  {
   "cell_type": "code",
   "execution_count": 9,
   "id": "1fbe062a",
   "metadata": {},
   "outputs": [
    {
     "data": {
      "text/plain": [
       "GridSearchCV(cv=5,\n",
       "             estimator=XGBRegressor(base_score=None, booster=None,\n",
       "                                    callbacks=None, colsample_bylevel=None,\n",
       "                                    colsample_bynode=None,\n",
       "                                    colsample_bytree=None, device=None,\n",
       "                                    early_stopping_rounds=None,\n",
       "                                    enable_categorical=False, eval_metric=None,\n",
       "                                    feature_types=None, gamma=None,\n",
       "                                    grow_policy=None, importance_type=None,\n",
       "                                    interaction_constraints=None,\n",
       "                                    learning_rate=None, m...\n",
       "                                    max_cat_threshold=None,\n",
       "                                    max_cat_to_onehot=None, max_delta_step=None,\n",
       "                                    max_depth=None, max_leaves=None,\n",
       "                                    min_child_weight=None, missing=nan,\n",
       "                                    monotone_constraints=None,\n",
       "                                    multi_strategy=None, n_estimators=None,\n",
       "                                    n_jobs=None, num_parallel_tree=None,\n",
       "                                    random_state=None, ...),\n",
       "             param_grid={'max_depth': [2, 3, 4, 5],\n",
       "                         'n_estimators': [100, 200, 300]},\n",
       "             scoring='neg_mean_squared_error')"
      ]
     },
     "execution_count": 9,
     "metadata": {},
     "output_type": "execute_result"
    }
   ],
   "source": [
    "grid_cv.fit(X_train, y_train)"
   ]
  },
  {
   "cell_type": "code",
   "execution_count": 10,
   "id": "750ab264",
   "metadata": {},
   "outputs": [
    {
     "data": {
      "text/plain": [
       "{'max_depth': 2, 'n_estimators': 300}"
      ]
     },
     "execution_count": 10,
     "metadata": {},
     "output_type": "execute_result"
    }
   ],
   "source": [
    "grid_cv.best_params_"
   ]
  },
  {
   "cell_type": "code",
   "execution_count": 11,
   "id": "3129fa9d",
   "metadata": {},
   "outputs": [
    {
     "data": {
      "text/plain": [
       "{'mean_fit_time': array([0.59751763, 0.99553518, 1.34483132, 0.75534835, 1.27754951,\n",
       "        1.81750245, 0.95142059, 1.71161509, 2.47877998, 1.25918708,\n",
       "        2.26989989, 3.36022749]),\n",
       " 'std_fit_time': array([0.0214777 , 0.0562731 , 0.0356377 , 0.02069673, 0.01626741,\n",
       "        0.03472508, 0.01725263, 0.05252611, 0.06367944, 0.01046909,\n",
       "        0.01550814, 0.05172603]),\n",
       " 'mean_score_time': array([0.00773273, 0.00833359, 0.00891967, 0.00768876, 0.00856152,\n",
       "        0.00952754, 0.00808578, 0.00869064, 0.01066246, 0.00845428,\n",
       "        0.01019745, 0.01215081]),\n",
       " 'std_score_time': array([0.0004652 , 0.00081198, 0.00121779, 0.00107508, 0.00101241,\n",
       "        0.00063789, 0.00068424, 0.00096157, 0.00085824, 0.000488  ,\n",
       "        0.00048602, 0.00135438]),\n",
       " 'param_max_depth': masked_array(data=[2, 2, 2, 3, 3, 3, 4, 4, 4, 5, 5, 5],\n",
       "              mask=[False, False, False, False, False, False, False, False,\n",
       "                    False, False, False, False],\n",
       "        fill_value='?',\n",
       "             dtype=object),\n",
       " 'param_n_estimators': masked_array(data=[100, 200, 300, 100, 200, 300, 100, 200, 300, 100, 200,\n",
       "                    300],\n",
       "              mask=[False, False, False, False, False, False, False, False,\n",
       "                    False, False, False, False],\n",
       "        fill_value='?',\n",
       "             dtype=object),\n",
       " 'params': [{'max_depth': 2, 'n_estimators': 100},\n",
       "  {'max_depth': 2, 'n_estimators': 200},\n",
       "  {'max_depth': 2, 'n_estimators': 300},\n",
       "  {'max_depth': 3, 'n_estimators': 100},\n",
       "  {'max_depth': 3, 'n_estimators': 200},\n",
       "  {'max_depth': 3, 'n_estimators': 300},\n",
       "  {'max_depth': 4, 'n_estimators': 100},\n",
       "  {'max_depth': 4, 'n_estimators': 200},\n",
       "  {'max_depth': 4, 'n_estimators': 300},\n",
       "  {'max_depth': 5, 'n_estimators': 100},\n",
       "  {'max_depth': 5, 'n_estimators': 200},\n",
       "  {'max_depth': 5, 'n_estimators': 300}],\n",
       " 'split0_test_score': array([-1.52094979, -1.3892081 , -1.34221318, -1.44200201, -1.36434354,\n",
       "        -1.353886  , -1.41852807, -1.38901603, -1.3925858 , -1.39210619,\n",
       "        -1.39734067, -1.41312107]),\n",
       " 'split1_test_score': array([-1.51093805, -1.37127001, -1.3341664 , -1.3926007 , -1.32450744,\n",
       "        -1.31800149, -1.39921403, -1.37329005, -1.38750271, -1.40404541,\n",
       "        -1.4181196 , -1.43237078]),\n",
       " 'split2_test_score': array([-1.49155864, -1.34713194, -1.297883  , -1.40520363, -1.33169449,\n",
       "        -1.3113    , -1.37683254, -1.35647645, -1.34325321, -1.37272102,\n",
       "        -1.38769815, -1.39672903]),\n",
       " 'split3_test_score': array([-1.56354236, -1.41899715, -1.37644752, -1.47166324, -1.39994539,\n",
       "        -1.38513316, -1.44252963, -1.41907225, -1.43835499, -1.45617736,\n",
       "        -1.45429708, -1.47559696]),\n",
       " 'split4_test_score': array([-1.65145548, -1.51708436, -1.46212431, -1.53121326, -1.46390671,\n",
       "        -1.46120948, -1.50939538, -1.4912873 , -1.49091915, -1.54005466,\n",
       "        -1.52855961, -1.54213222]),\n",
       " 'mean_test_score': array([-1.54768886, -1.40873831, -1.36256688, -1.44853657, -1.37687951,\n",
       "        -1.36590603, -1.42929993, -1.40582842, -1.41052317, -1.43302093,\n",
       "        -1.43720302, -1.45199001]),\n",
       " 'std_test_score': array([0.05698253, 0.05903348, 0.0556942 , 0.04983883, 0.05108315,\n",
       "        0.05454095, 0.04552873, 0.04744605, 0.0502296 , 0.06023639,\n",
       "        0.05107279, 0.05221569]),\n",
       " 'rank_test_score': array([12,  5,  1, 10,  3,  2,  7,  4,  6,  8,  9, 11], dtype=int32)}"
      ]
     },
     "execution_count": 11,
     "metadata": {},
     "output_type": "execute_result"
    }
   ],
   "source": [
    "grid_cv.cv_results_"
   ]
  },
  {
   "cell_type": "code",
   "execution_count": 12,
   "id": "006c8e57",
   "metadata": {},
   "outputs": [],
   "source": [
    "reg = xgb.XGBRegressor(**grid_cv.best_params_)"
   ]
  },
  {
   "cell_type": "code",
   "execution_count": 13,
   "id": "de7d9817",
   "metadata": {},
   "outputs": [],
   "source": [
    "reg.fit(X_train, y_train)\n",
    "y_pred = reg.predict(X_test)"
   ]
  },
  {
   "cell_type": "code",
   "execution_count": 14,
   "id": "893770fb",
   "metadata": {},
   "outputs": [],
   "source": [
    "def acc_exact(actual, predicted):\n",
    "    check = np.absolute(predicted - actual) <= 0.5\n",
    "    return check.sum()/len(check)\n",
    "def acc_within_one(actual, predicted):\n",
    "    check = np.absolute(predicted - actual) <= 1.5\n",
    "    return check.sum()/len(check)"
   ]
  },
  {
   "cell_type": "code",
   "execution_count": 15,
   "id": "fb42c546",
   "metadata": {},
   "outputs": [
    {
     "name": "stdout",
     "output_type": "stream",
     "text": [
      "Mean squared error: 1.4109004195503725\n",
      "Accuracy rate (exact grade match): 0.386499914339558\n",
      "Accuracy rate (within one grade): 0.8173719376391982\n"
     ]
    }
   ],
   "source": [
    "print('Mean squared error:', mean_squared_error(y_test, y_pred))\n",
    "print('Accuracy rate (exact grade match):', acc_exact(y_test, y_pred))\n",
    "print('Accuracy rate (within one grade):', acc_within_one(y_test, y_pred))"
   ]
  },
  {
   "cell_type": "code",
   "execution_count": 16,
   "id": "6e0c1bb4",
   "metadata": {},
   "outputs": [
    {
     "data": {
      "image/png": "[encoded data removed]",
      "text/plain": [
       "<Figure size 432x288 with 1 Axes>"
      ]
     },
     "metadata": {
      "needs_background": "light"
     },
     "output_type": "display_data"
    }
   ],
   "source": [
    "xy = np.vstack([y_test, y_pred])\n",
    "z = sps.gaussian_kde(xy)(xy)\n",
    "fig, ax = plt.subplots()\n",
    "ax.scatter(y_test, y_pred, c=z, s=100)\n",
    "plt.plot([0, 12], [0, 12], 'k--')\n",
    "plt.show()"
   ]
  },
  {
   "cell_type": "markdown",
   "id": "13ecb0f0",
   "metadata": {},
   "source": [
    "Mean squared error: 1.3745974128529268\n",
    "Accuracy rate (exact grade match): 0.39729313003255096\n",
    "Accuracy rate (within one grade): 0.8252526983039232"
   ]
  },
  {
   "cell_type": "code",
   "execution_count": null,
   "id": "ed77a4f1",
   "metadata": {},
   "outputs": [],
   "source": []
  },
  {
   "cell_type": "code",
   "execution_count": null,
   "id": "253eaecc",
   "metadata": {},
   "outputs": [],
   "source": []
  }
 ],
 "metadata": {
  "kernelspec": {
   "display_name": "Python 3 (ipykernel)",
   "language": "python",
   "name": "python3"
  },
  "language_info": {
   "codemirror_mode": {
    "name": "ipython",
    "version": 3
   },
   "file_extension": ".py",
   "mimetype": "text/x-python",
   "name": "python",
   "nbconvert_exporter": "python",
   "pygments_lexer": "ipython3",
   "version": "3.9.7"
  }
 },
 "nbformat": 4,
 "nbformat_minor": 5
}
